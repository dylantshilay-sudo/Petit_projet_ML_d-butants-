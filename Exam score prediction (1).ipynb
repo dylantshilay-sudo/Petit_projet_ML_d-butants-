{
 "cells": [
  {
   "cell_type": "markdown",
   "id": "51869bd0-739b-46e1-b756-99bd06624fae",
   "metadata": {},
   "source": [
    "# Premier petit projet SKLEARN : Student Exam Performance"
   ]
  },
  {
   "cell_type": "code",
   "execution_count": 1,
   "id": "10e052ea-3155-42d7-8342-99646d75db9e",
   "metadata": {},
   "outputs": [],
   "source": [
    "import numpy as np\n",
    "import pandas as pd \n",
    "import matplotlib.pyplot as plt \n",
    "import seaborn as sns \n",
    "from sklearn.model_selection import train_test_split\n",
    "from sklearn.preprocessing import StandardScaler\n",
    "from sklearn.linear_model import LinearRegression\n",
    "from sklearn.metrics import mean_squared_error, r2_score"
   ]
  },
  {
   "cell_type": "markdown",
   "id": "a866383b-0e05-4343-84fe-f4794f8beb7a",
   "metadata": {},
   "source": [
    "## Etape 1: EDA"
   ]
  },
  {
   "cell_type": "markdown",
   "id": "70275e04-f045-4647-b842-3f848eacf823",
   "metadata": {},
   "source": [
    "### Chargement du dataset"
   ]
  },
  {
   "cell_type": "code",
   "execution_count": 2,
   "id": "bbb11e7c-1752-4e69-a6d8-83f3739b736b",
   "metadata": {},
   "outputs": [
    {
     "data": {
      "text/html": [
       "<div>\n",
       "<style scoped>\n",
       "    .dataframe tbody tr th:only-of-type {\n",
       "        vertical-align: middle;\n",
       "    }\n",
       "\n",
       "    .dataframe tbody tr th {\n",
       "        vertical-align: top;\n",
       "    }\n",
       "\n",
       "    .dataframe thead th {\n",
       "        text-align: right;\n",
       "    }\n",
       "</style>\n",
       "<table border=\"1\" class=\"dataframe\">\n",
       "  <thead>\n",
       "    <tr style=\"text-align: right;\">\n",
       "      <th></th>\n",
       "      <th>Hours_Studied</th>\n",
       "      <th>Attendance</th>\n",
       "      <th>Parental_Involvement</th>\n",
       "      <th>Access_to_Resources</th>\n",
       "      <th>Extracurricular_Activities</th>\n",
       "      <th>Sleep_Hours</th>\n",
       "      <th>Previous_Scores</th>\n",
       "      <th>Motivation_Level</th>\n",
       "      <th>Internet_Access</th>\n",
       "      <th>Tutoring_Sessions</th>\n",
       "      <th>Family_Income</th>\n",
       "      <th>Teacher_Quality</th>\n",
       "      <th>School_Type</th>\n",
       "      <th>Peer_Influence</th>\n",
       "      <th>Physical_Activity</th>\n",
       "      <th>Learning_Disabilities</th>\n",
       "      <th>Parental_Education_Level</th>\n",
       "      <th>Distance_from_Home</th>\n",
       "      <th>Gender</th>\n",
       "      <th>Exam_Score</th>\n",
       "    </tr>\n",
       "  </thead>\n",
       "  <tbody>\n",
       "    <tr>\n",
       "      <th>0</th>\n",
       "      <td>23</td>\n",
       "      <td>84</td>\n",
       "      <td>Low</td>\n",
       "      <td>High</td>\n",
       "      <td>No</td>\n",
       "      <td>7</td>\n",
       "      <td>73</td>\n",
       "      <td>Low</td>\n",
       "      <td>Yes</td>\n",
       "      <td>0</td>\n",
       "      <td>Low</td>\n",
       "      <td>Medium</td>\n",
       "      <td>Public</td>\n",
       "      <td>Positive</td>\n",
       "      <td>3</td>\n",
       "      <td>No</td>\n",
       "      <td>High School</td>\n",
       "      <td>Near</td>\n",
       "      <td>Male</td>\n",
       "      <td>67</td>\n",
       "    </tr>\n",
       "    <tr>\n",
       "      <th>1</th>\n",
       "      <td>19</td>\n",
       "      <td>64</td>\n",
       "      <td>Low</td>\n",
       "      <td>Medium</td>\n",
       "      <td>No</td>\n",
       "      <td>8</td>\n",
       "      <td>59</td>\n",
       "      <td>Low</td>\n",
       "      <td>Yes</td>\n",
       "      <td>2</td>\n",
       "      <td>Medium</td>\n",
       "      <td>Medium</td>\n",
       "      <td>Public</td>\n",
       "      <td>Negative</td>\n",
       "      <td>4</td>\n",
       "      <td>No</td>\n",
       "      <td>College</td>\n",
       "      <td>Moderate</td>\n",
       "      <td>Female</td>\n",
       "      <td>61</td>\n",
       "    </tr>\n",
       "    <tr>\n",
       "      <th>2</th>\n",
       "      <td>24</td>\n",
       "      <td>98</td>\n",
       "      <td>Medium</td>\n",
       "      <td>Medium</td>\n",
       "      <td>Yes</td>\n",
       "      <td>7</td>\n",
       "      <td>91</td>\n",
       "      <td>Medium</td>\n",
       "      <td>Yes</td>\n",
       "      <td>2</td>\n",
       "      <td>Medium</td>\n",
       "      <td>Medium</td>\n",
       "      <td>Public</td>\n",
       "      <td>Neutral</td>\n",
       "      <td>4</td>\n",
       "      <td>No</td>\n",
       "      <td>Postgraduate</td>\n",
       "      <td>Near</td>\n",
       "      <td>Male</td>\n",
       "      <td>74</td>\n",
       "    </tr>\n",
       "    <tr>\n",
       "      <th>3</th>\n",
       "      <td>29</td>\n",
       "      <td>89</td>\n",
       "      <td>Low</td>\n",
       "      <td>Medium</td>\n",
       "      <td>Yes</td>\n",
       "      <td>8</td>\n",
       "      <td>98</td>\n",
       "      <td>Medium</td>\n",
       "      <td>Yes</td>\n",
       "      <td>1</td>\n",
       "      <td>Medium</td>\n",
       "      <td>Medium</td>\n",
       "      <td>Public</td>\n",
       "      <td>Negative</td>\n",
       "      <td>4</td>\n",
       "      <td>No</td>\n",
       "      <td>High School</td>\n",
       "      <td>Moderate</td>\n",
       "      <td>Male</td>\n",
       "      <td>71</td>\n",
       "    </tr>\n",
       "    <tr>\n",
       "      <th>4</th>\n",
       "      <td>19</td>\n",
       "      <td>92</td>\n",
       "      <td>Medium</td>\n",
       "      <td>Medium</td>\n",
       "      <td>Yes</td>\n",
       "      <td>6</td>\n",
       "      <td>65</td>\n",
       "      <td>Medium</td>\n",
       "      <td>Yes</td>\n",
       "      <td>3</td>\n",
       "      <td>Medium</td>\n",
       "      <td>High</td>\n",
       "      <td>Public</td>\n",
       "      <td>Neutral</td>\n",
       "      <td>4</td>\n",
       "      <td>No</td>\n",
       "      <td>College</td>\n",
       "      <td>Near</td>\n",
       "      <td>Female</td>\n",
       "      <td>70</td>\n",
       "    </tr>\n",
       "  </tbody>\n",
       "</table>\n",
       "</div>"
      ],
      "text/plain": [
       "   Hours_Studied  Attendance Parental_Involvement Access_to_Resources  \\\n",
       "0             23          84                  Low                High   \n",
       "1             19          64                  Low              Medium   \n",
       "2             24          98               Medium              Medium   \n",
       "3             29          89                  Low              Medium   \n",
       "4             19          92               Medium              Medium   \n",
       "\n",
       "  Extracurricular_Activities  Sleep_Hours  Previous_Scores Motivation_Level  \\\n",
       "0                         No            7               73              Low   \n",
       "1                         No            8               59              Low   \n",
       "2                        Yes            7               91           Medium   \n",
       "3                        Yes            8               98           Medium   \n",
       "4                        Yes            6               65           Medium   \n",
       "\n",
       "  Internet_Access  Tutoring_Sessions Family_Income Teacher_Quality  \\\n",
       "0             Yes                  0           Low          Medium   \n",
       "1             Yes                  2        Medium          Medium   \n",
       "2             Yes                  2        Medium          Medium   \n",
       "3             Yes                  1        Medium          Medium   \n",
       "4             Yes                  3        Medium            High   \n",
       "\n",
       "  School_Type Peer_Influence  Physical_Activity Learning_Disabilities  \\\n",
       "0      Public       Positive                  3                    No   \n",
       "1      Public       Negative                  4                    No   \n",
       "2      Public        Neutral                  4                    No   \n",
       "3      Public       Negative                  4                    No   \n",
       "4      Public        Neutral                  4                    No   \n",
       "\n",
       "  Parental_Education_Level Distance_from_Home  Gender  Exam_Score  \n",
       "0              High School               Near    Male          67  \n",
       "1                  College           Moderate  Female          61  \n",
       "2             Postgraduate               Near    Male          74  \n",
       "3              High School           Moderate    Male          71  \n",
       "4                  College               Near  Female          70  "
      ]
     },
     "execution_count": 2,
     "metadata": {},
     "output_type": "execute_result"
    }
   ],
   "source": [
    "data = pd.read_csv('StudentPerformanceFactors.csv')\n",
    "data.head()"
   ]
  },
  {
   "cell_type": "markdown",
   "id": "10570556-48fa-4686-baa0-b1c16291a305",
   "metadata": {},
   "source": [
    "### Compréhension des distributions "
   ]
  },
  {
   "cell_type": "markdown",
   "id": "fe2e182e-79f9-46a3-8b82-904530617974",
   "metadata": {},
   "source": [
    "1. Hours_Studied"
   ]
  },
  {
   "cell_type": "code",
   "execution_count": 3,
   "id": "a59612c7-0c78-4574-8475-5d754d42e124",
   "metadata": {},
   "outputs": [
    {
     "data": {
      "text/plain": [
       "<Axes: xlabel='Hours_Studied', ylabel='Count'>"
      ]
     },
     "execution_count": 3,
     "metadata": {},
     "output_type": "execute_result"
    },
    {
     "data": {
      "image/png": "[encoded data removed]",
      "text/plain": [
       "<Figure size 640x480 with 1 Axes>"
      ]
     },
     "metadata": {},
     "output_type": "display_data"
    }
   ],
   "source": [
    "sns.histplot(data['Hours_Studied'])"
   ]
  },
  {
   "cell_type": "markdown",
   "id": "e4ca09cf-c48e-40c8-b15b-16b925e7a439",
   "metadata": {},
   "source": [
    "2. Sleep_Hours"
   ]
  },
  {
   "cell_type": "code",
   "execution_count": 4,
   "id": "eae01527-d475-4351-88a1-b065358cb36f",
   "metadata": {},
   "outputs": [
    {
     "data": {
      "text/plain": [
       "<Axes: xlabel='Sleep_Hours', ylabel='Count'>"
      ]
     },
     "execution_count": 4,
     "metadata": {},
     "output_type": "execute_result"
    },
    {
     "data": {
      "image/png": "[encoded data removed]",
      "text/plain": [
       "<Figure size 640x480 with 1 Axes>"
      ]
     },
     "metadata": {},
     "output_type": "display_data"
    }
   ],
   "source": [
    "sns.histplot(data['Sleep_Hours'])"
   ]
  },
  {
   "cell_type": "markdown",
   "id": "dcf5e0e3-00e9-4746-8e1e-6d573fc08ea0",
   "metadata": {},
   "source": [
    "3. Exam_Score"
   ]
  },
  {
   "cell_type": "code",
   "execution_count": 5,
   "id": "378918a3-5626-4298-b231-097ff8d8dc8b",
   "metadata": {},
   "outputs": [
    {
     "data": {
      "text/plain": [
       "<Axes: xlabel='Exam_Score', ylabel='Count'>"
      ]
     },
     "execution_count": 5,
     "metadata": {},
     "output_type": "execute_result"
    },
    {
     "data": {
      "image/png": "[encoded data removed]",
      "text/plain": [
       "<Figure size 640x480 with 1 Axes>"
      ]
     },
     "metadata": {},
     "output_type": "display_data"
    }
   ],
   "source": [
    "sns.histplot(data['Exam_Score'])"
   ]
  },
  {
   "cell_type": "markdown",
   "id": "b39c1b97-2d1d-4c12-a9a7-6ba77a30cfcd",
   "metadata": {},
   "source": [
    "3. Previous_Score"
   ]
  },
  {
   "cell_type": "code",
   "execution_count": 6,
   "id": "24c38daf-b952-4871-ab18-436083e94c26",
   "metadata": {},
   "outputs": [
    {
     "data": {
      "text/plain": [
       "<Axes: xlabel='Previous_Scores', ylabel='Count'>"
      ]
     },
     "execution_count": 6,
     "metadata": {},
     "output_type": "execute_result"
    },
    {
     "data": {
      "image/png": "[encoded data removed]",
      "text/plain": [
       "<Figure size 640x480 with 1 Axes>"
      ]
     },
     "metadata": {},
     "output_type": "display_data"
    }
   ],
   "source": [
    "sns.histplot(data['Previous_Scores'])"
   ]
  },
  {
   "cell_type": "markdown",
   "id": "c187c9ee-d4d1-45e3-bcf2-f20e00d1482e",
   "metadata": {},
   "source": [
    "4. Attendance"
   ]
  },
  {
   "cell_type": "code",
   "execution_count": 7,
   "id": "201bdc20-c228-4ded-9f33-ffdafdbbfc7c",
   "metadata": {},
   "outputs": [
    {
     "data": {
      "text/plain": [
       "<Axes: xlabel='Attendance', ylabel='Count'>"
      ]
     },
     "execution_count": 7,
     "metadata": {},
     "output_type": "execute_result"
    },
    {
     "data": {
      "image/png": "[encoded data removed]",
      "text/plain": [
       "<Figure size 640x480 with 1 Axes>"
      ]
     },
     "metadata": {},
     "output_type": "display_data"
    }
   ],
   "source": [
    "sns.histplot(data['Attendance'])"
   ]
  },
  {
   "cell_type": "markdown",
   "id": "18615d55-5f62-4ef6-967d-4633e34b43c2",
   "metadata": {},
   "source": [
    "### Relations entre les variables continue et le score"
   ]
  },
  {
   "cell_type": "markdown",
   "id": "c7b29546-706f-4dfd-8f94-f71988c846a1",
   "metadata": {},
   "source": [
    "1. Exam_Score et Hours_Studied"
   ]
  },
  {
   "cell_type": "code",
   "execution_count": 8,
   "id": "3c2b4069-e2d8-42a4-b429-e453877c6d47",
   "metadata": {},
   "outputs": [
    {
     "data": {
      "text/plain": [
       "<Axes: xlabel='Exam_Score', ylabel='Hours_Studied'>"
      ]
     },
     "execution_count": 8,
     "metadata": {},
     "output_type": "execute_result"
    },
    {
     "data": {
      "image/png": "[encoded data removed]",
      "text/plain": [
       "<Figure size 640x480 with 1 Axes>"
      ]
     },
     "metadata": {},
     "output_type": "display_data"
    }
   ],
   "source": [
    "sns.scatterplot(x=data['Exam_Score'], y=data['Hours_Studied'], data=data)"
   ]
  },
  {
   "cell_type": "markdown",
   "id": "289142f9-9967-4eaf-bad3-7ab4a3756587",
   "metadata": {},
   "source": [
    "2. Exam_Score et Sleep_Hours"
   ]
  },
  {
   "cell_type": "code",
   "execution_count": 9,
   "id": "a9d6ded5-de21-4d7d-8fea-f54c3e425c8c",
   "metadata": {},
   "outputs": [
    {
     "data": {
      "text/plain": [
       "<Axes: xlabel='Sleep_Hours', ylabel='Exam_Score'>"
      ]
     },
     "execution_count": 9,
     "metadata": {},
     "output_type": "execute_result"
    },
    {
     "data": {
      "image/png": "[encoded data removed]",
      "text/plain": [
       "<Figure size 640x480 with 1 Axes>"
      ]
     },
     "metadata": {},
     "output_type": "display_data"
    }
   ],
   "source": [
    "sns.scatterplot(y=data['Exam_Score'], x=data['Sleep_Hours'], data=data)"
   ]
  },
  {
   "cell_type": "markdown",
   "id": "aed1ee21-8534-473a-b817-7476bfdf1a29",
   "metadata": {},
   "source": [
    "### Matrice de corrélation des valeurs numériques"
   ]
  },
  {
   "cell_type": "code",
   "execution_count": 10,
   "id": "78b75d63-d805-466f-9748-4b428ed32a56",
   "metadata": {},
   "outputs": [
    {
     "name": "stdout",
     "output_type": "stream",
     "text": [
      "<class 'pandas.core.frame.DataFrame'>\n",
      "RangeIndex: 6607 entries, 0 to 6606\n",
      "Data columns (total 20 columns):\n",
      " #   Column                      Non-Null Count  Dtype \n",
      "---  ------                      --------------  ----- \n",
      " 0   Hours_Studied               6607 non-null   int64 \n",
      " 1   Attendance                  6607 non-null   int64 \n",
      " 2   Parental_Involvement        6607 non-null   object\n",
      " 3   Access_to_Resources         6607 non-null   object\n",
      " 4   Extracurricular_Activities  6607 non-null   object\n",
      " 5   Sleep_Hours                 6607 non-null   int64 \n",
      " 6   Previous_Scores             6607 non-null   int64 \n",
      " 7   Motivation_Level            6607 non-null   object\n",
      " 8   Internet_Access             6607 non-null   object\n",
      " 9   Tutoring_Sessions           6607 non-null   int64 \n",
      " 10  Family_Income               6607 non-null   object\n",
      " 11  Teacher_Quality             6529 non-null   object\n",
      " 12  School_Type                 6607 non-null   object\n",
      " 13  Peer_Influence              6607 non-null   object\n",
      " 14  Physical_Activity           6607 non-null   int64 \n",
      " 15  Learning_Disabilities       6607 non-null   object\n",
      " 16  Parental_Education_Level    6517 non-null   object\n",
      " 17  Distance_from_Home          6540 non-null   object\n",
      " 18  Gender                      6607 non-null   object\n",
      " 19  Exam_Score                  6607 non-null   int64 \n",
      "dtypes: int64(7), object(13)\n",
      "memory usage: 1.0+ MB\n"
     ]
    }
   ],
   "source": [
    "# Savoir quels sont les colonnes avec des valeurs numériques\n",
    "data.info()"
   ]
  },
  {
   "cell_type": "code",
   "execution_count": 11,
   "id": "80c6eaa7-ff43-4a5e-86a2-f592bf927db9",
   "metadata": {},
   "outputs": [],
   "source": [
    "data_num = data[['Hours_Studied', 'Attendance', 'Sleep_Hours', 'Previous_Scores', 'Tutoring_Sessions', 'Physical_Activity', 'Exam_Score']]"
   ]
  },
  {
   "cell_type": "markdown",
   "id": "33906675-5a92-4a31-b8f6-ea55ee4621e7",
   "metadata": {},
   "source": [
    "Matrice de corrélation"
   ]
  },
  {
   "cell_type": "code",
   "execution_count": 12,
   "id": "cb29e4cd-a8e0-40aa-b80c-641c13bf83e0",
   "metadata": {},
   "outputs": [
    {
     "data": {
      "text/plain": [
       "<Axes: >"
      ]
     },
     "execution_count": 12,
     "metadata": {},
     "output_type": "execute_result"
    },
    {
     "data": {
      "image/png": "[encoded data removed]",
      "text/plain": [
       "<Figure size 640x480 with 2 Axes>"
      ]
     },
     "metadata": {},
     "output_type": "display_data"
    }
   ],
   "source": [
    "sns.heatmap(data_num)"
   ]
  },
  {
   "cell_type": "markdown",
   "id": "d5fa413e-32f2-49b6-99f2-1ebf07976ef2",
   "metadata": {},
   "source": [
    "## Etape 2: Préparation des données"
   ]
  },
  {
   "cell_type": "markdown",
   "id": "c6418dfa-72a9-4036-a3b5-c43c5932d6fa",
   "metadata": {},
   "source": [
    "#### Transformation des variables catégorielles "
   ]
  },
  {
   "cell_type": "code",
   "execution_count": 13,
   "id": "a2785fbd-72d3-4f73-bdbf-e5a095e55d54",
   "metadata": {},
   "outputs": [
    {
     "data": {
      "text/html": [
       "<div>\n",
       "<style scoped>\n",
       "    .dataframe tbody tr th:only-of-type {\n",
       "        vertical-align: middle;\n",
       "    }\n",
       "\n",
       "    .dataframe tbody tr th {\n",
       "        vertical-align: top;\n",
       "    }\n",
       "\n",
       "    .dataframe thead th {\n",
       "        text-align: right;\n",
       "    }\n",
       "</style>\n",
       "<table border=\"1\" class=\"dataframe\">\n",
       "  <thead>\n",
       "    <tr style=\"text-align: right;\">\n",
       "      <th></th>\n",
       "      <th>Hours_Studied</th>\n",
       "      <th>Attendance</th>\n",
       "      <th>Parental_Involvement</th>\n",
       "      <th>Access_to_Resources</th>\n",
       "      <th>Extracurricular_Activities</th>\n",
       "      <th>Sleep_Hours</th>\n",
       "      <th>Previous_Scores</th>\n",
       "      <th>Motivation_Level</th>\n",
       "      <th>Internet_Access</th>\n",
       "      <th>Tutoring_Sessions</th>\n",
       "      <th>Family_Income</th>\n",
       "      <th>Teacher_Quality</th>\n",
       "      <th>School_Type</th>\n",
       "      <th>Peer_Influence</th>\n",
       "      <th>Physical_Activity</th>\n",
       "      <th>Learning_Disabilities</th>\n",
       "      <th>Parental_Education_Level</th>\n",
       "      <th>Distance_from_Home</th>\n",
       "      <th>Gender</th>\n",
       "      <th>Exam_Score</th>\n",
       "    </tr>\n",
       "  </thead>\n",
       "  <tbody>\n",
       "    <tr>\n",
       "      <th>0</th>\n",
       "      <td>23</td>\n",
       "      <td>84</td>\n",
       "      <td>Low</td>\n",
       "      <td>High</td>\n",
       "      <td>No</td>\n",
       "      <td>7</td>\n",
       "      <td>73</td>\n",
       "      <td>Low</td>\n",
       "      <td>Yes</td>\n",
       "      <td>0</td>\n",
       "      <td>Low</td>\n",
       "      <td>Medium</td>\n",
       "      <td>Public</td>\n",
       "      <td>Positive</td>\n",
       "      <td>3</td>\n",
       "      <td>No</td>\n",
       "      <td>High School</td>\n",
       "      <td>Near</td>\n",
       "      <td>Male</td>\n",
       "      <td>67</td>\n",
       "    </tr>\n",
       "    <tr>\n",
       "      <th>1</th>\n",
       "      <td>19</td>\n",
       "      <td>64</td>\n",
       "      <td>Low</td>\n",
       "      <td>Medium</td>\n",
       "      <td>No</td>\n",
       "      <td>8</td>\n",
       "      <td>59</td>\n",
       "      <td>Low</td>\n",
       "      <td>Yes</td>\n",
       "      <td>2</td>\n",
       "      <td>Medium</td>\n",
       "      <td>Medium</td>\n",
       "      <td>Public</td>\n",
       "      <td>Negative</td>\n",
       "      <td>4</td>\n",
       "      <td>No</td>\n",
       "      <td>College</td>\n",
       "      <td>Moderate</td>\n",
       "      <td>Female</td>\n",
       "      <td>61</td>\n",
       "    </tr>\n",
       "    <tr>\n",
       "      <th>2</th>\n",
       "      <td>24</td>\n",
       "      <td>98</td>\n",
       "      <td>Medium</td>\n",
       "      <td>Medium</td>\n",
       "      <td>Yes</td>\n",
       "      <td>7</td>\n",
       "      <td>91</td>\n",
       "      <td>Medium</td>\n",
       "      <td>Yes</td>\n",
       "      <td>2</td>\n",
       "      <td>Medium</td>\n",
       "      <td>Medium</td>\n",
       "      <td>Public</td>\n",
       "      <td>Neutral</td>\n",
       "      <td>4</td>\n",
       "      <td>No</td>\n",
       "      <td>Postgraduate</td>\n",
       "      <td>Near</td>\n",
       "      <td>Male</td>\n",
       "      <td>74</td>\n",
       "    </tr>\n",
       "    <tr>\n",
       "      <th>3</th>\n",
       "      <td>29</td>\n",
       "      <td>89</td>\n",
       "      <td>Low</td>\n",
       "      <td>Medium</td>\n",
       "      <td>Yes</td>\n",
       "      <td>8</td>\n",
       "      <td>98</td>\n",
       "      <td>Medium</td>\n",
       "      <td>Yes</td>\n",
       "      <td>1</td>\n",
       "      <td>Medium</td>\n",
       "      <td>Medium</td>\n",
       "      <td>Public</td>\n",
       "      <td>Negative</td>\n",
       "      <td>4</td>\n",
       "      <td>No</td>\n",
       "      <td>High School</td>\n",
       "      <td>Moderate</td>\n",
       "      <td>Male</td>\n",
       "      <td>71</td>\n",
       "    </tr>\n",
       "    <tr>\n",
       "      <th>4</th>\n",
       "      <td>19</td>\n",
       "      <td>92</td>\n",
       "      <td>Medium</td>\n",
       "      <td>Medium</td>\n",
       "      <td>Yes</td>\n",
       "      <td>6</td>\n",
       "      <td>65</td>\n",
       "      <td>Medium</td>\n",
       "      <td>Yes</td>\n",
       "      <td>3</td>\n",
       "      <td>Medium</td>\n",
       "      <td>High</td>\n",
       "      <td>Public</td>\n",
       "      <td>Neutral</td>\n",
       "      <td>4</td>\n",
       "      <td>No</td>\n",
       "      <td>College</td>\n",
       "      <td>Near</td>\n",
       "      <td>Female</td>\n",
       "      <td>70</td>\n",
       "    </tr>\n",
       "    <tr>\n",
       "      <th>5</th>\n",
       "      <td>19</td>\n",
       "      <td>88</td>\n",
       "      <td>Medium</td>\n",
       "      <td>Medium</td>\n",
       "      <td>Yes</td>\n",
       "      <td>8</td>\n",
       "      <td>89</td>\n",
       "      <td>Medium</td>\n",
       "      <td>Yes</td>\n",
       "      <td>3</td>\n",
       "      <td>Medium</td>\n",
       "      <td>Medium</td>\n",
       "      <td>Public</td>\n",
       "      <td>Positive</td>\n",
       "      <td>3</td>\n",
       "      <td>No</td>\n",
       "      <td>Postgraduate</td>\n",
       "      <td>Near</td>\n",
       "      <td>Male</td>\n",
       "      <td>71</td>\n",
       "    </tr>\n",
       "    <tr>\n",
       "      <th>6</th>\n",
       "      <td>29</td>\n",
       "      <td>84</td>\n",
       "      <td>Medium</td>\n",
       "      <td>Low</td>\n",
       "      <td>Yes</td>\n",
       "      <td>7</td>\n",
       "      <td>68</td>\n",
       "      <td>Low</td>\n",
       "      <td>Yes</td>\n",
       "      <td>1</td>\n",
       "      <td>Low</td>\n",
       "      <td>Medium</td>\n",
       "      <td>Private</td>\n",
       "      <td>Neutral</td>\n",
       "      <td>2</td>\n",
       "      <td>No</td>\n",
       "      <td>High School</td>\n",
       "      <td>Moderate</td>\n",
       "      <td>Male</td>\n",
       "      <td>67</td>\n",
       "    </tr>\n",
       "    <tr>\n",
       "      <th>7</th>\n",
       "      <td>25</td>\n",
       "      <td>78</td>\n",
       "      <td>Low</td>\n",
       "      <td>High</td>\n",
       "      <td>Yes</td>\n",
       "      <td>6</td>\n",
       "      <td>50</td>\n",
       "      <td>Medium</td>\n",
       "      <td>Yes</td>\n",
       "      <td>1</td>\n",
       "      <td>High</td>\n",
       "      <td>High</td>\n",
       "      <td>Public</td>\n",
       "      <td>Negative</td>\n",
       "      <td>2</td>\n",
       "      <td>No</td>\n",
       "      <td>High School</td>\n",
       "      <td>Far</td>\n",
       "      <td>Male</td>\n",
       "      <td>66</td>\n",
       "    </tr>\n",
       "    <tr>\n",
       "      <th>8</th>\n",
       "      <td>17</td>\n",
       "      <td>94</td>\n",
       "      <td>Medium</td>\n",
       "      <td>High</td>\n",
       "      <td>No</td>\n",
       "      <td>6</td>\n",
       "      <td>80</td>\n",
       "      <td>High</td>\n",
       "      <td>Yes</td>\n",
       "      <td>0</td>\n",
       "      <td>Medium</td>\n",
       "      <td>Low</td>\n",
       "      <td>Private</td>\n",
       "      <td>Neutral</td>\n",
       "      <td>1</td>\n",
       "      <td>No</td>\n",
       "      <td>College</td>\n",
       "      <td>Near</td>\n",
       "      <td>Male</td>\n",
       "      <td>69</td>\n",
       "    </tr>\n",
       "    <tr>\n",
       "      <th>9</th>\n",
       "      <td>23</td>\n",
       "      <td>98</td>\n",
       "      <td>Medium</td>\n",
       "      <td>Medium</td>\n",
       "      <td>Yes</td>\n",
       "      <td>8</td>\n",
       "      <td>71</td>\n",
       "      <td>Medium</td>\n",
       "      <td>Yes</td>\n",
       "      <td>0</td>\n",
       "      <td>High</td>\n",
       "      <td>High</td>\n",
       "      <td>Public</td>\n",
       "      <td>Positive</td>\n",
       "      <td>5</td>\n",
       "      <td>No</td>\n",
       "      <td>High School</td>\n",
       "      <td>Moderate</td>\n",
       "      <td>Male</td>\n",
       "      <td>72</td>\n",
       "    </tr>\n",
       "  </tbody>\n",
       "</table>\n",
       "</div>"
      ],
      "text/plain": [
       "   Hours_Studied  Attendance Parental_Involvement Access_to_Resources  \\\n",
       "0             23          84                  Low                High   \n",
       "1             19          64                  Low              Medium   \n",
       "2             24          98               Medium              Medium   \n",
       "3             29          89                  Low              Medium   \n",
       "4             19          92               Medium              Medium   \n",
       "5             19          88               Medium              Medium   \n",
       "6             29          84               Medium                 Low   \n",
       "7             25          78                  Low                High   \n",
       "8             17          94               Medium                High   \n",
       "9             23          98               Medium              Medium   \n",
       "\n",
       "  Extracurricular_Activities  Sleep_Hours  Previous_Scores Motivation_Level  \\\n",
       "0                         No            7               73              Low   \n",
       "1                         No            8               59              Low   \n",
       "2                        Yes            7               91           Medium   \n",
       "3                        Yes            8               98           Medium   \n",
       "4                        Yes            6               65           Medium   \n",
       "5                        Yes            8               89           Medium   \n",
       "6                        Yes            7               68              Low   \n",
       "7                        Yes            6               50           Medium   \n",
       "8                         No            6               80             High   \n",
       "9                        Yes            8               71           Medium   \n",
       "\n",
       "  Internet_Access  Tutoring_Sessions Family_Income Teacher_Quality  \\\n",
       "0             Yes                  0           Low          Medium   \n",
       "1             Yes                  2        Medium          Medium   \n",
       "2             Yes                  2        Medium          Medium   \n",
       "3             Yes                  1        Medium          Medium   \n",
       "4             Yes                  3        Medium            High   \n",
       "5             Yes                  3        Medium          Medium   \n",
       "6             Yes                  1           Low          Medium   \n",
       "7             Yes                  1          High            High   \n",
       "8             Yes                  0        Medium             Low   \n",
       "9             Yes                  0          High            High   \n",
       "\n",
       "  School_Type Peer_Influence  Physical_Activity Learning_Disabilities  \\\n",
       "0      Public       Positive                  3                    No   \n",
       "1      Public       Negative                  4                    No   \n",
       "2      Public        Neutral                  4                    No   \n",
       "3      Public       Negative                  4                    No   \n",
       "4      Public        Neutral                  4                    No   \n",
       "5      Public       Positive                  3                    No   \n",
       "6     Private        Neutral                  2                    No   \n",
       "7      Public       Negative                  2                    No   \n",
       "8     Private        Neutral                  1                    No   \n",
       "9      Public       Positive                  5                    No   \n",
       "\n",
       "  Parental_Education_Level Distance_from_Home  Gender  Exam_Score  \n",
       "0              High School               Near    Male          67  \n",
       "1                  College           Moderate  Female          61  \n",
       "2             Postgraduate               Near    Male          74  \n",
       "3              High School           Moderate    Male          71  \n",
       "4                  College               Near  Female          70  \n",
       "5             Postgraduate               Near    Male          71  \n",
       "6              High School           Moderate    Male          67  \n",
       "7              High School                Far    Male          66  \n",
       "8                  College               Near    Male          69  \n",
       "9              High School           Moderate    Male          72  "
      ]
     },
     "execution_count": 13,
     "metadata": {},
     "output_type": "execute_result"
    }
   ],
   "source": [
    "data.head(10)"
   ]
  },
  {
   "cell_type": "code",
   "execution_count": 14,
   "id": "3fd477ce-3e91-4fb8-9fd2-d734b8b80f59",
   "metadata": {},
   "outputs": [],
   "source": [
    "def colone_par_type(df, data_type):\n",
    "    return list(df.select_dtypes(include=[data_type]).columns)"
   ]
  },
  {
   "cell_type": "code",
   "execution_count": 15,
   "id": "9aaddb0d-8ee2-4b9f-85ce-6d4d48b29ae9",
   "metadata": {},
   "outputs": [],
   "source": [
    "col  = list(colone_par_type(data, 'object'))\n",
    "x = 0\n",
    "while x < len(col):\n",
    "    data[col[x]] = data[col[x]].astype('category').cat.codes\n",
    "    x = x+1"
   ]
  },
  {
   "cell_type": "code",
   "execution_count": 16,
   "id": "f9da7a06-7985-41bd-a5d0-7ce48c54d1c1",
   "metadata": {},
   "outputs": [
    {
     "data": {
      "text/html": [
       "<div>\n",
       "<style scoped>\n",
       "    .dataframe tbody tr th:only-of-type {\n",
       "        vertical-align: middle;\n",
       "    }\n",
       "\n",
       "    .dataframe tbody tr th {\n",
       "        vertical-align: top;\n",
       "    }\n",
       "\n",
       "    .dataframe thead th {\n",
       "        text-align: right;\n",
       "    }\n",
       "</style>\n",
       "<table border=\"1\" class=\"dataframe\">\n",
       "  <thead>\n",
       "    <tr style=\"text-align: right;\">\n",
       "      <th></th>\n",
       "      <th>Hours_Studied</th>\n",
       "      <th>Attendance</th>\n",
       "      <th>Parental_Involvement</th>\n",
       "      <th>Access_to_Resources</th>\n",
       "      <th>Extracurricular_Activities</th>\n",
       "      <th>Sleep_Hours</th>\n",
       "      <th>Previous_Scores</th>\n",
       "      <th>Motivation_Level</th>\n",
       "      <th>Internet_Access</th>\n",
       "      <th>Tutoring_Sessions</th>\n",
       "      <th>Family_Income</th>\n",
       "      <th>Teacher_Quality</th>\n",
       "      <th>School_Type</th>\n",
       "      <th>Peer_Influence</th>\n",
       "      <th>Physical_Activity</th>\n",
       "      <th>Learning_Disabilities</th>\n",
       "      <th>Parental_Education_Level</th>\n",
       "      <th>Distance_from_Home</th>\n",
       "      <th>Gender</th>\n",
       "      <th>Exam_Score</th>\n",
       "    </tr>\n",
       "  </thead>\n",
       "  <tbody>\n",
       "    <tr>\n",
       "      <th>0</th>\n",
       "      <td>23</td>\n",
       "      <td>84</td>\n",
       "      <td>1</td>\n",
       "      <td>0</td>\n",
       "      <td>0</td>\n",
       "      <td>7</td>\n",
       "      <td>73</td>\n",
       "      <td>1</td>\n",
       "      <td>1</td>\n",
       "      <td>0</td>\n",
       "      <td>1</td>\n",
       "      <td>2</td>\n",
       "      <td>1</td>\n",
       "      <td>2</td>\n",
       "      <td>3</td>\n",
       "      <td>0</td>\n",
       "      <td>1</td>\n",
       "      <td>2</td>\n",
       "      <td>1</td>\n",
       "      <td>67</td>\n",
       "    </tr>\n",
       "    <tr>\n",
       "      <th>1</th>\n",
       "      <td>19</td>\n",
       "      <td>64</td>\n",
       "      <td>1</td>\n",
       "      <td>2</td>\n",
       "      <td>0</td>\n",
       "      <td>8</td>\n",
       "      <td>59</td>\n",
       "      <td>1</td>\n",
       "      <td>1</td>\n",
       "      <td>2</td>\n",
       "      <td>2</td>\n",
       "      <td>2</td>\n",
       "      <td>1</td>\n",
       "      <td>0</td>\n",
       "      <td>4</td>\n",
       "      <td>0</td>\n",
       "      <td>0</td>\n",
       "      <td>1</td>\n",
       "      <td>0</td>\n",
       "      <td>61</td>\n",
       "    </tr>\n",
       "    <tr>\n",
       "      <th>2</th>\n",
       "      <td>24</td>\n",
       "      <td>98</td>\n",
       "      <td>2</td>\n",
       "      <td>2</td>\n",
       "      <td>1</td>\n",
       "      <td>7</td>\n",
       "      <td>91</td>\n",
       "      <td>2</td>\n",
       "      <td>1</td>\n",
       "      <td>2</td>\n",
       "      <td>2</td>\n",
       "      <td>2</td>\n",
       "      <td>1</td>\n",
       "      <td>1</td>\n",
       "      <td>4</td>\n",
       "      <td>0</td>\n",
       "      <td>2</td>\n",
       "      <td>2</td>\n",
       "      <td>1</td>\n",
       "      <td>74</td>\n",
       "    </tr>\n",
       "    <tr>\n",
       "      <th>3</th>\n",
       "      <td>29</td>\n",
       "      <td>89</td>\n",
       "      <td>1</td>\n",
       "      <td>2</td>\n",
       "      <td>1</td>\n",
       "      <td>8</td>\n",
       "      <td>98</td>\n",
       "      <td>2</td>\n",
       "      <td>1</td>\n",
       "      <td>1</td>\n",
       "      <td>2</td>\n",
       "      <td>2</td>\n",
       "      <td>1</td>\n",
       "      <td>0</td>\n",
       "      <td>4</td>\n",
       "      <td>0</td>\n",
       "      <td>1</td>\n",
       "      <td>1</td>\n",
       "      <td>1</td>\n",
       "      <td>71</td>\n",
       "    </tr>\n",
       "    <tr>\n",
       "      <th>4</th>\n",
       "      <td>19</td>\n",
       "      <td>92</td>\n",
       "      <td>2</td>\n",
       "      <td>2</td>\n",
       "      <td>1</td>\n",
       "      <td>6</td>\n",
       "      <td>65</td>\n",
       "      <td>2</td>\n",
       "      <td>1</td>\n",
       "      <td>3</td>\n",
       "      <td>2</td>\n",
       "      <td>0</td>\n",
       "      <td>1</td>\n",
       "      <td>1</td>\n",
       "      <td>4</td>\n",
       "      <td>0</td>\n",
       "      <td>0</td>\n",
       "      <td>2</td>\n",
       "      <td>0</td>\n",
       "      <td>70</td>\n",
       "    </tr>\n",
       "  </tbody>\n",
       "</table>\n",
       "</div>"
      ],
      "text/plain": [
       "   Hours_Studied  Attendance  Parental_Involvement  Access_to_Resources  \\\n",
       "0             23          84                     1                    0   \n",
       "1             19          64                     1                    2   \n",
       "2             24          98                     2                    2   \n",
       "3             29          89                     1                    2   \n",
       "4             19          92                     2                    2   \n",
       "\n",
       "   Extracurricular_Activities  Sleep_Hours  Previous_Scores  Motivation_Level  \\\n",
       "0                           0            7               73                 1   \n",
       "1                           0            8               59                 1   \n",
       "2                           1            7               91                 2   \n",
       "3                           1            8               98                 2   \n",
       "4                           1            6               65                 2   \n",
       "\n",
       "   Internet_Access  Tutoring_Sessions  Family_Income  Teacher_Quality  \\\n",
       "0                1                  0              1                2   \n",
       "1                1                  2              2                2   \n",
       "2                1                  2              2                2   \n",
       "3                1                  1              2                2   \n",
       "4                1                  3              2                0   \n",
       "\n",
       "   School_Type  Peer_Influence  Physical_Activity  Learning_Disabilities  \\\n",
       "0            1               2                  3                      0   \n",
       "1            1               0                  4                      0   \n",
       "2            1               1                  4                      0   \n",
       "3            1               0                  4                      0   \n",
       "4            1               1                  4                      0   \n",
       "\n",
       "   Parental_Education_Level  Distance_from_Home  Gender  Exam_Score  \n",
       "0                         1                   2       1          67  \n",
       "1                         0                   1       0          61  \n",
       "2                         2                   2       1          74  \n",
       "3                         1                   1       1          71  \n",
       "4                         0                   2       0          70  "
      ]
     },
     "execution_count": 16,
     "metadata": {},
     "output_type": "execute_result"
    }
   ],
   "source": [
    "data.head()"
   ]
  },
  {
   "cell_type": "markdown",
   "id": "4fa3dc56-d76d-49e8-a6f0-cd24aa1799da",
   "metadata": {},
   "source": [
    "Standardisation des données + séparation des données"
   ]
  },
  {
   "cell_type": "code",
   "execution_count": 17,
   "id": "6f4bba4f-7cbf-4064-bf64-2e4194de5b17",
   "metadata": {},
   "outputs": [],
   "source": [
    "x = data.drop(['Exam_Score'], axis=1)\n",
    "y = data['Exam_Score']"
   ]
  },
  {
   "cell_type": "code",
   "execution_count": 41,
   "id": "f451aa65-6c05-445a-a940-2105d8775edb",
   "metadata": {},
   "outputs": [],
   "source": [
    "x_train ,x_test, y_train, y_test = train_test_split(x, y, test_size=0.2)"
   ]
  },
  {
   "cell_type": "code",
   "execution_count": 42,
   "id": "c1020df2-0776-47ad-9ae3-f2996c14be55",
   "metadata": {},
   "outputs": [],
   "source": [
    "# Normalisation des features\n",
    "scaler = StandardScaler()\n",
    "x_train_scaler = scaler.fit_transform(x_train)\n",
    "x_test_scaler = scaler.transform(x_test)"
   ]
  },
  {
   "cell_type": "markdown",
   "id": "48e088ba-af0c-4ce8-bb36-4a2290eedd43",
   "metadata": {},
   "source": [
    "# Etape 3: Modélisation (Régression linéaire)"
   ]
  },
  {
   "cell_type": "code",
   "execution_count": 43,
   "id": "0ad330e6-afdf-443d-8f07-81a972416069",
   "metadata": {},
   "outputs": [
    {
     "data": {
      "text/plain": [
       "0.652781126483742"
      ]
     },
     "execution_count": 43,
     "metadata": {},
     "output_type": "execute_result"
    }
   ],
   "source": [
    "model = LinearRegression()\n",
    "model.fit(x_train_scaler, y_train)\n",
    "model.score(x_train_scaler, y_train)"
   ]
  },
  {
   "cell_type": "markdown",
   "id": "97dc86e3-303a-4c05-bbb3-aed677c11085",
   "metadata": {},
   "source": [
    "Evaluation du modèle avec les métriques de régression"
   ]
  },
  {
   "cell_type": "code",
   "execution_count": 44,
   "id": "8fb34aa1-d86b-4275-ac10-f7e95e8f5b17",
   "metadata": {},
   "outputs": [
    {
     "name": "stdout",
     "output_type": "stream",
     "text": [
      " RMSE = 2.29\n",
      " R2 = 0.6419010092726354\n"
     ]
    }
   ],
   "source": [
    "prediction = model.predict(x_test_scaler)\n",
    "\n",
    "RMSE = round(np.sqrt(mean_squared_error(y_test, prediction)), 2)\n",
    "r_2 = r2_score(y_test, prediction)\n",
    "\n",
    "print(f\" RMSE = {RMSE}\")\n",
    "print(f\" R2 = {r_2}\")"
   ]
  },
  {
   "cell_type": "markdown",
   "id": "9f46c10d-d7bc-4f54-8323-c7b23ab87ea1",
   "metadata": {},
   "source": [
    "# Etape 4 : Interprétation"
   ]
  },
  {
   "cell_type": "markdown",
   "id": "b6afc289-9cf2-48de-8d8c-fe717400add3",
   "metadata": {},
   "source": [
    "Observation des coefficients"
   ]
  },
  {
   "cell_type": "code",
   "execution_count": 45,
   "id": "4e9622eb-1b86-4d2d-9eb4-487fe977b92e",
   "metadata": {},
   "outputs": [
    {
     "data": {
      "text/plain": [
       "array([ 1.73329003,  2.29121296, -0.38051727, -0.35634841,  0.25583543,\n",
       "       -0.03963215,  0.68312742, -0.12935176,  0.25427433,  0.61379851,\n",
       "       -0.11474087, -0.19035374,  0.00345991,  0.38712051,  0.16447005,\n",
       "       -0.27046327,  0.08104125,  0.30870027, -0.01953612])"
      ]
     },
     "execution_count": 45,
     "metadata": {},
     "output_type": "execute_result"
    }
   ],
   "source": [
    "model.coef_"
   ]
  },
  {
   "cell_type": "markdown",
   "id": "c333f351-96c4-46c7-8878-1b2e5275b870",
   "metadata": {},
   "source": [
    "!!! On se rend compte que les valeurs qui influence le plus les prédictions sont :  **Hours_Studied, Attendance, Previous_Scores**"
   ]
  },
  {
   "cell_type": "code",
   "execution_count": 51,
   "id": "07a3d5db-c5c0-4bf5-b88b-708c7a1c1acb",
   "metadata": {},
   "outputs": [
    {
     "data": {
      "text/plain": [
       "np.float64(67.23292336802271)"
      ]
     },
     "execution_count": 51,
     "metadata": {},
     "output_type": "execute_result"
    }
   ],
   "source": [
    "model.intercept_"
   ]
  },
  {
   "cell_type": "markdown",
   "id": "1ecdbd34-2b49-4f14-8bd0-2ef0f7e76be3",
   "metadata": {},
   "source": [
    "# Etape 5 : Prédiction"
   ]
  },
  {
   "cell_type": "code",
   "execution_count": 62,
   "id": "78dc4775-bafe-463b-953e-9a5e3d484a61",
   "metadata": {},
   "outputs": [],
   "source": [
    "def exam_score(etudiant):\n",
    "    mapping = {\n",
    "    'Parental_Involvement': {\"Low\":0, \"Medium\":1, \"High\":2}, \n",
    "    'Access_to_Resources' : {\"Low\":0, \"Medium\":1, \"High\":2}, \n",
    "    'Extracurricular_Activities': {\"No\":0, \"Yes\":1},\n",
    "    'Motivation_Level' : {\"Low\":0, \"Medium\":1, \"High\":2},\n",
    "    'Internet_Access' : {\"No\":0, \"Yes\":1},\n",
    "    'Family_Income': {\"Low\":0, \"Medium\":1, \"High\":2},\n",
    "    'Teacher_Quality': {\"Low\":0, \"Medium\":1, \"High\":2},\n",
    "    'School_Type' : {\"Public\":0, \"Private\":1},\n",
    "    'Peer_Influence': {\"Negative\":0, \"Positive\":1},\n",
    "    'Learning_Disabilities': {\"No\":0, \"Yes\": 1},\n",
    "    'Parental_Education_Level' : {\"High School\":0, \"College\":1, \"Postgraduate\":2},\n",
    "    'Distance_from_Home': {\"Near\":0, \"Moderate\":1, \"Far\":2},\n",
    "    'Gender': {\"Male\":0, \"Female\":1}}\n",
    "    for col, mapping in mapping.items():\n",
    "        etudiant[col] = etudiant[col].replace(mapping)\n",
    "    data_scaler = scaler.transform(etudiant)\n",
    "    return model.predict(data_scaler)"
   ]
  },
  {
   "cell_type": "markdown",
   "id": "546a8953-34c7-4fbc-a93d-c648692f9067",
   "metadata": {},
   "source": [
    "1er étudiant"
   ]
  },
  {
   "cell_type": "code",
   "execution_count": 68,
   "id": "68ab1945-51e9-415c-aea7-2ed0b53bd1e7",
   "metadata": {},
   "outputs": [],
   "source": [
    "etudiant_1 = {\n",
    "    'Hours_Studied': 34, \n",
    "    'Attendance': 50,\n",
    "    'Parental_Involvement': 'Low',\n",
    "    'Access_to_Resources' : 'Low',\n",
    "    'Extracurricular_Activities': 'No',\n",
    "    'Sleep_Hours': 4,\n",
    "    'Previous_Scores':67,\n",
    "    'Motivation_Level' : 'High', \n",
    "    'Internet_Access': 'No',\n",
    "    'Tutoring_Sessions': 2,\n",
    "    'Family_Income': 'Low',\n",
    "    'Teacher_Quality' : 'Medium',\n",
    "    'School_Type' : 'Private',\n",
    "    'Peer_Influence' : 'Positive', \n",
    "    'Physical_Activity' : 3,\n",
    "    'Learning_Disabilities': 'No',\n",
    "    'Parental_Education_Level': 'College',\n",
    "    'Distance_from_Home': 'Far',\n",
    "    'Gender': 'Female'\n",
    "}\n",
    "df_etudiant_1 = pd.DataFrame(etudiant_1, index=[0])"
   ]
  },
  {
   "cell_type": "code",
   "execution_count": 69,
   "id": "4c1ca379-0859-4040-a7b3-b850d30e618f",
   "metadata": {},
   "outputs": [
    {
     "name": "stderr",
     "output_type": "stream",
     "text": [
      "C:\\Users\\Dylan TK\\AppData\\Local\\Temp\\ipykernel_656\\1331317638.py:17: FutureWarning: Downcasting behavior in `replace` is deprecated and will be removed in a future version. To retain the old behavior, explicitly call `result.infer_objects(copy=False)`. To opt-in to the future behavior, set `pd.set_option('future.no_silent_downcasting', True)`\n",
      "  etudiant[col] = etudiant[col].replace(mapping)\n"
     ]
    },
    {
     "data": {
      "text/plain": [
       "array([65.46039823])"
      ]
     },
     "execution_count": 69,
     "metadata": {},
     "output_type": "execute_result"
    }
   ],
   "source": [
    "exam_score(df_etudiant_1)"
   ]
  },
  {
   "cell_type": "markdown",
   "id": "93396a7d-5029-4d4a-830d-eaa91f8df942",
   "metadata": {},
   "source": [
    "2ième étudiant"
   ]
  },
  {
   "cell_type": "code",
   "execution_count": 70,
   "id": "fe404c97-ef9e-47d3-89e6-70802ef90300",
   "metadata": {},
   "outputs": [],
   "source": [
    "etudiant_2 = {\n",
    "    'Hours_Studied': 10, \n",
    "    'Attendance': 90,\n",
    "    'Parental_Involvement': 'High',\n",
    "    'Access_to_Resources' : 'High',\n",
    "    'Extracurricular_Activities': 'Yes',\n",
    "    'Sleep_Hours': 8,\n",
    "    'Previous_Scores':80,\n",
    "    'Motivation_Level' : 'High', \n",
    "    'Internet_Access': 'Yes',\n",
    "    'Tutoring_Sessions': 3,\n",
    "    'Family_Income': 'High',\n",
    "    'Teacher_Quality' : 'Medium',\n",
    "    'School_Type' : 'Private',\n",
    "    'Peer_Influence' : 'Positive', \n",
    "    'Physical_Activity' : 3,\n",
    "    'Learning_Disabilities': 'No',\n",
    "    'Parental_Education_Level': 'Postgraduate',\n",
    "    'Distance_from_Home': 'Near',\n",
    "    'Gender': 'Female'\n",
    "}\n",
    "df_etudiant_2 = pd.DataFrame(etudiant_2, index=[0])"
   ]
  },
  {
   "cell_type": "code",
   "execution_count": 71,
   "id": "6cd9e15d-2d73-45f7-ba84-300aa299e294",
   "metadata": {},
   "outputs": [
    {
     "name": "stderr",
     "output_type": "stream",
     "text": [
      "C:\\Users\\Dylan TK\\AppData\\Local\\Temp\\ipykernel_656\\1331317638.py:17: FutureWarning: Downcasting behavior in `replace` is deprecated and will be removed in a future version. To retain the old behavior, explicitly call `result.infer_objects(copy=False)`. To opt-in to the future behavior, set `pd.set_option('future.no_silent_downcasting', True)`\n",
      "  etudiant[col] = etudiant[col].replace(mapping)\n"
     ]
    },
    {
     "data": {
      "text/plain": [
       "array([66.20984638])"
      ]
     },
     "execution_count": 71,
     "metadata": {},
     "output_type": "execute_result"
    }
   ],
   "source": [
    "exam_score(df_etudiant_2)"
   ]
  },
  {
   "cell_type": "code",
   "execution_count": 72,
   "id": "62f96661-8867-4f4d-9172-3c475695446b",
   "metadata": {},
   "outputs": [],
   "source": [
    "etudiant_3 = {\n",
    "    'Hours_Studied': 29, \n",
    "    'Attendance': 80,\n",
    "    'Parental_Involvement': 'Medium',\n",
    "    'Access_to_Resources' : 'High',\n",
    "    'Extracurricular_Activities': 'Yes',\n",
    "    'Sleep_Hours': 10,\n",
    "    'Previous_Scores':98,\n",
    "    'Motivation_Level' : 'High', \n",
    "    'Internet_Access': 'Yes',\n",
    "    'Tutoring_Sessions': 3,\n",
    "    'Family_Income': 'Medium',\n",
    "    'Teacher_Quality' : 'High',\n",
    "    'School_Type' : 'Public',\n",
    "    'Peer_Influence' : 'Positive', \n",
    "    'Physical_Activity' : 3,\n",
    "    'Learning_Disabilities': 'No',\n",
    "    'Parental_Education_Level': 'Postgraduate',\n",
    "    'Distance_from_Home': 'Near',\n",
    "    'Gender': 'Male'\n",
    "}\n",
    "df_etudiant_3 = pd.DataFrame(etudiant_3, index=[0])"
   ]
  },
  {
   "cell_type": "code",
   "execution_count": 73,
   "id": "85aecef1-ded5-4eda-a4de-63dc45552507",
   "metadata": {},
   "outputs": [
    {
     "name": "stderr",
     "output_type": "stream",
     "text": [
      "C:\\Users\\Dylan TK\\AppData\\Local\\Temp\\ipykernel_656\\1331317638.py:17: FutureWarning: Downcasting behavior in `replace` is deprecated and will be removed in a future version. To retain the old behavior, explicitly call `result.infer_objects(copy=False)`. To opt-in to the future behavior, set `pd.set_option('future.no_silent_downcasting', True)`\n",
      "  etudiant[col] = etudiant[col].replace(mapping)\n"
     ]
    },
    {
     "data": {
      "text/plain": [
       "array([70.9408291])"
      ]
     },
     "execution_count": 73,
     "metadata": {},
     "output_type": "execute_result"
    }
   ],
   "source": [
    "exam_score(df_etudiant_3)"
   ]
  },
  {
   "cell_type": "code",
   "execution_count": null,
   "id": "492141f6-f3a7-4128-a6dc-5c95944e8a22",
   "metadata": {},
   "outputs": [],
   "source": []
  }
 ],
 "metadata": {
  "kernelspec": {
   "display_name": "Python 3 (ipykernel)",
   "language": "python",
   "name": "python3"
  },
  "language_info": {
   "codemirror_mode": {
    "name": "ipython",
    "version": 3
   },
   "file_extension": ".py",
   "mimetype": "text/x-python",
   "name": "python",
   "nbconvert_exporter": "python",
   "pygments_lexer": "ipython3",
   "version": "3.13.5"
  }
 },
 "nbformat": 4,
 "nbformat_minor": 5
}
